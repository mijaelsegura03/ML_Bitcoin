{
 "cells": [
  {
   "cell_type": "code",
   "execution_count": 16,
   "id": "162365e3",
   "metadata": {},
   "outputs": [
    {
     "name": "stdout",
     "output_type": "stream",
     "text": [
      "✅ Dataset cargado correctamente\n",
      "Shape: (2044, 286)\n",
      "Columnas: ['WTI-Close', 'WTI-Open', 'WTI-High', 'WTI-Low', 'WTI-Volume', 'BRENT-Close', 'BRENT-Open', 'BRENT-High', 'BRENT-Low', 'BRENT-Volume'] ...\n"
     ]
    }
   ],
   "source": [
    "import pandas as pd\n",
    "from pathlib import Path\n",
    "\n",
    "# === CARGAR DATASET PROCESADO ===\n",
    "data_dir = Path.cwd().parent.parent / \"data\"   # Ajustar si cambia tu estructura\n",
    "df = pd.read_csv(data_dir / \"dataset_final.csv\")\n",
    "\n",
    "# === DEFINIR VARIABLES ===\n",
    "TARGET = \"BTC-Close_next_day\"\n",
    "X = df.drop(columns=[TARGET])\n",
    "y = df[TARGET]\n",
    "\n",
    "print(\"✅ Dataset cargado correctamente\")\n",
    "print(\"Shape:\", X.shape)\n",
    "print(\"Columnas:\", list(X.columns[:10]), \"...\")\n",
    "\n"
   ]
  },
  {
   "cell_type": "code",
   "execution_count": 17,
   "id": "058e1240",
   "metadata": {},
   "outputs": [
    {
     "name": "stdout",
     "output_type": "stream",
     "text": [
      "🧪 VALIDATION SET RESULTS\n",
      "MAE: 1664.4746\n",
      "R² : 0.2449\n",
      "\n",
      "🧾 TEST SET RESULTS\n",
      "MAE: 1270.1432\n",
      "R² : 0.6845\n"
     ]
    }
   ],
   "source": [
    "from sklearn.compose import ColumnTransformer\n",
    "from sklearn.pipeline import Pipeline\n",
    "from sklearn.ensemble import RandomForestRegressor\n",
    "from sklearn.metrics import mean_absolute_error, r2_score\n",
    "from sklearn.preprocessing import StandardScaler\n",
    "from sklearn.model_selection import train_test_split\n",
    "\n",
    "# --- División: 70% train, 15% val, 15% test ---\n",
    "X_train, X_temp, y_train, y_temp = train_test_split(\n",
    "    X, y, test_size=0.3, random_state=42, shuffle=False\n",
    ")\n",
    "X_val, X_test, y_val, y_test = train_test_split(\n",
    "    X_temp, y_temp, test_size=0.5, random_state=42, shuffle=False\n",
    ")\n",
    "\n",
    "# --- Preprocesamiento ---\n",
    "num_cols = list(X_train.columns)\n",
    "preprocessor = ColumnTransformer([\n",
    "    (\"num\", StandardScaler(), num_cols)\n",
    "])\n",
    "\n",
    "# --- Pipeline con Random Forest ---\n",
    "rf_pipeline = Pipeline(steps=[\n",
    "    (\"scaler\", preprocessor),\n",
    "    (\"model\", RandomForestRegressor(\n",
    "        n_estimators=200,\n",
    "        max_depth=None,\n",
    "        random_state=42,\n",
    "        n_jobs=-1\n",
    "    ))\n",
    "])\n",
    "\n",
    "# --- Entrenamiento ---\n",
    "rf_pipeline.fit(X_train, y_train)\n",
    "\n",
    "# --- Evaluación ---\n",
    "y_val_pred  = rf_pipeline.predict(X_val)\n",
    "y_test_pred = rf_pipeline.predict(X_test)\n",
    "\n",
    "print(\"🧪 VALIDATION SET RESULTS\")\n",
    "print(f\"MAE: {mean_absolute_error(y_val,  y_val_pred):.4f}\")\n",
    "print(f\"R² : {r2_score(y_val,  y_val_pred):.4f}\")\n",
    "\n",
    "print(\"\\n🧾 TEST SET RESULTS\")\n",
    "print(f\"MAE: {mean_absolute_error(y_test, y_test_pred):.4f}\")\n",
    "print(f\"R² : {r2_score(y_test, y_test_pred):.4f}\")\n"
   ]
  },
  {
   "cell_type": "code",
   "execution_count": 18,
   "id": "1abadee0",
   "metadata": {},
   "outputs": [
    {
     "name": "stdout",
     "output_type": "stream",
     "text": [
      "🔮 Predicción del cierre de BTC para el próximo día: 7,688.36 USD\n"
     ]
    }
   ],
   "source": [
    "# === PREDICCIÓN DEL PRÓXIMO DÍA (no evaluable aún) ===\n",
    "x_last_row = X.tail(1).copy()\n",
    "y_next_pred = rf_pipeline.predict(x_last_row)[0]\n",
    "print(f\"🔮 Predicción del cierre de BTC para el próximo día: {y_next_pred:,.2f} USD\")\n"
   ]
  },
  {
   "cell_type": "code",
   "execution_count": 19,
   "id": "ee36b8e3",
   "metadata": {},
   "outputs": [
    {
     "name": "stdout",
     "output_type": "stream",
     "text": [
      "📅 Primera fecha en TEST (índice): 1737\n",
      "Real : 6,387.09\n",
      "Pred : 7,705.45\n",
      "Error: 1,318.36 USD\n"
     ]
    }
   ],
   "source": [
    "# === CHEQUEO PUNTUAL: primera fecha del TEST ===\n",
    "x_first_test = X_test.iloc[[0]]\n",
    "y_true_first = y_test.iloc[0]\n",
    "y_pred_first = rf_pipeline.predict(x_first_test)[0]\n",
    "\n",
    "print(\"📅 Primera fecha en TEST (índice):\", X_test.index[0] if hasattr(X_test, \"index\") else \"(sin índice de fecha)\")\n",
    "print(f\"Real : {y_true_first:,.2f}\")\n",
    "print(f\"Pred : {y_pred_first:,.2f}\")\n",
    "print(f\"Error: {abs(y_true_first - y_pred_first):,.2f} USD\")\n"
   ]
  }
 ],
 "metadata": {
  "kernelspec": {
   "display_name": "Python (btcml)",
   "language": "python",
   "name": "btcml"
  },
  "language_info": {
   "codemirror_mode": {
    "name": "ipython",
    "version": 3
   },
   "file_extension": ".py",
   "mimetype": "text/x-python",
   "name": "python",
   "nbconvert_exporter": "python",
   "pygments_lexer": "ipython3",
   "version": "3.12.10"
  }
 },
 "nbformat": 4,
 "nbformat_minor": 5
}
