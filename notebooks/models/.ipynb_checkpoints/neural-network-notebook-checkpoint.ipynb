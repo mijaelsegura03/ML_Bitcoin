{
 "cells": [
  {
   "cell_type": "code",
   "execution_count": 18,
   "id": "fb44bd34",
   "metadata": {},
   "outputs": [
    {
     "name": "stdout",
     "output_type": "stream",
     "text": [
      "✅ Dataset cargado correctamente\n",
      "Shape: (2044, 286)\n",
      "Columnas: ['WTI-Close', 'WTI-Open', 'WTI-High', 'WTI-Low', 'WTI-Volume', 'BRENT-Close', 'BRENT-Open', 'BRENT-High', 'BRENT-Low', 'BRENT-Volume'] ...\n"
     ]
    }
   ],
   "source": [
    "import pandas as pd\n",
    "from pathlib import Path\n",
    "\n",
    "# === CARGAR DATASET PROCESADO ===\n",
    "data_dir = Path.cwd().parent.parent / \"data\"\n",
    "df = pd.read_csv(data_dir / \"dataset_final.csv\")\n",
    "\n",
    "# === DEFINIR VARIABLES ===\n",
    "TARGET = \"BTC-Close_next_day\"\n",
    "X = df.drop(columns=[TARGET])\n",
    "y = df[TARGET]\n",
    "\n",
    "print(\"✅ Dataset cargado correctamente\")\n",
    "print(\"Shape:\", X.shape)\n",
    "print(\"Columnas:\", list(X.columns[:10]), \"...\")"
   ]
  },
  {
   "cell_type": "code",
   "execution_count": 19,
   "id": "162528c9",
   "metadata": {},
   "outputs": [],
   "source": [
    "from sklearn.neural_network import MLPRegressor\n",
    "\n",
    "\n",
    "mlp = MLPRegressor(\n",
    "    hidden_layer_sizes=(128, 64),\n",
    "    max_iter=3000,\n",
    "    random_state=42\n",
    ")"
   ]
  },
  {
   "cell_type": "code",
   "execution_count": 20,
   "id": "747ba724",
   "metadata": {},
   "outputs": [
    {
     "name": "stdout",
     "output_type": "stream",
     "text": [
      "1- MLP VALIDATION RESULTS\n",
      "MAE: 4776.7279\n",
      "R2: -2.9995\n",
      "2- MLP TEST RESULTS\n",
      "MAE: 6547.8242\n",
      "R2: -4.3920\n"
     ]
    }
   ],
   "source": [
    "\n",
    "from sklearn.pipeline import Pipeline   \n",
    "from sklearn.compose import ColumnTransformer      \n",
    "from sklearn.neural_network import MLPRegressor\n",
    "from sklearn.model_selection import train_test_split\n",
    "from sklearn.preprocessing import StandardScaler\n",
    "from sklearn.metrics import mean_absolute_error, r2_score\n",
    "\n",
    "\n",
    "# DIVIDIMOS EL DATASET 70% TRAIN 15% TEST 15% VALIDATION\n",
    "X_train, X_temp, y_train, y_temp = train_test_split(\n",
    "    X, y, test_size=0.3, random_state=42, shuffle=False\n",
    ")\n",
    "\n",
    "X_val, X_test, y_val, y_test = train_test_split(\n",
    "    X_temp, y_temp, test_size=0.5, random_state=42, shuffle=False\n",
    ")\n",
    "\n",
    "# PREPROCESAMIENTO\n",
    "num_cols = [c for c in X_train.columns] #if c != \"Date\"\n",
    "preprocessor = ColumnTransformer(\n",
    "    transformers=[\n",
    "        (\"num\", StandardScaler(), num_cols)\n",
    "    ],\n",
    ")\n",
    "\n",
    "mlp_pipeline = Pipeline(steps=[\n",
    "    (\"scaler\", preprocessor),\n",
    "    (\"model\", mlp)\n",
    "])\n",
    "\n",
    "mlp_pipeline.fit(X_train, y_train)\n",
    "\n",
    "y_mlp_val = mlp_pipeline.predict(X_val)\n",
    "mlp_mae_val = mean_absolute_error(y_val, y_mlp_val)\n",
    "mlp_r2_val = r2_score(y_val, y_mlp_val)\n",
    "print(\"1- MLP VALIDATION RESULTS\")\n",
    "print(f\"MAE: {mlp_mae_val:.4f}\")\n",
    "print(f\"R2: {mlp_r2_val:.4f}\")\n",
    "\n",
    "y_mlp_test = mlp_pipeline.predict(X_test)\n",
    "mlp_mae_test = mean_absolute_error(y_test, y_mlp_test)\n",
    "mlp_r2_test = r2_score(y_test, y_mlp_test)\n",
    "print(\"2- MLP TEST RESULTS\")\n",
    "print(f\"MAE: {mlp_mae_test:.4f}\")\n",
    "print(f\"R2: {mlp_r2_test:.4f}\")"
   ]
  }
 ],
 "metadata": {
  "kernelspec": {
   "display_name": "Python (btcml)",
   "language": "python",
   "name": "btcml"
  },
  "language_info": {
   "codemirror_mode": {
    "name": "ipython",
    "version": 3
   },
   "file_extension": ".py",
   "mimetype": "text/x-python",
   "name": "python",
   "nbconvert_exporter": "python",
   "pygments_lexer": "ipython3",
   "version": "3.12.10"
  }
 },
 "nbformat": 4,
 "nbformat_minor": 5
}
