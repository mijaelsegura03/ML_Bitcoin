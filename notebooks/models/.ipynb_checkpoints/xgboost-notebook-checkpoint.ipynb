{
  "cells": [
    {
      "cell_type": "markdown",
      "id": "389535d8",
      "metadata": {},
      "source": [
        "# XGBoost - Predicción usando dataset_final\n",
        "Este notebook carga `data/dataset_final.csv`, realiza el split (70/15/15) sin barajar, entrena XGBoost con los hiperparámetros usados en `models.ipynb`, evalúa en validación y test, y muestra una predicción de ejemplo."
      ]
    },
    {
      "cell_type": "code",
      "execution_count": 1,
      "id": "14fca22c",
      "metadata": {},
      "outputs": [
        {
          "name": "stdout",
          "output_type": "stream",
          "text": [
            "X shape: (2043, 286)\n",
            "y shape: (2043,)\n"
          ]
        }
      ],
      "source": [
        "from pathlib import Path\n",
        "import pandas as pd\n",
        "from sklearn.model_selection import train_test_split\n",
        "from sklearn.metrics import mean_absolute_error, r2_score\n",
        "\n",
        "\n",
        "# Ruta del dataset procesado\n",
        "data_dir = Path.cwd().parent.parent / \"data\"\n",
        "df = pd.read_csv(data_dir / \"dataset_final.csv\")\n",
        "\n",
        "# Definición de features y target\n",
        "TARGET = \"BTC-Close_next_day\"\n",
        "X = df.drop(columns=[TARGET])\n",
        "y = df[TARGET]\n",
        "\n",
        "# Alinear por seguridad (si el último 'next_day' no existe o por consistencia)\n",
        "X = X.iloc[:-1]\n",
        "y = y.iloc[:-1]\n",
        "\n",
        "print(\"X shape:\", X.shape)\n",
        "print(\"y shape:\", y.shape)"
      ]
    },
    {
      "cell_type": "code",
      "execution_count": 2,
      "id": "ea1d2590",
      "metadata": {},
      "outputs": [
        {
          "name": "stdout",
          "output_type": "stream",
          "text": [
            "x_last_row shape: (1, 286)\n",
            "y_last_row: [122391.]\n",
            "Train: (1430, 286) Val: (306, 286) Test: (307, 286)\n"
          ]
        }
      ],
      "source": [
        "from xgboost import XGBRegressor\n",
        "# Guardamos una fila de ejemplo para \"predecir el siguiente día\" (mismo patrón que RF)\n",
        "x_last_row = X.head(1).copy()\n",
        "y_last_row = y.head(1).copy()\n",
        "print(\"x_last_row shape:\", x_last_row.shape)\n",
        "print(\"y_last_row:\", y_last_row.values)\n",
        "\n",
        "# Split 70/15/15 sin shuffle para respetar temporalidad\n",
        "X_train, X_temp, y_train, y_temp = train_test_split(\n",
        "    X, y, test_size=0.3, random_state=42, shuffle=False\n",
        ")\n",
        "X_val, X_test, y_val, y_test = train_test_split(\n",
        "    X_temp, y_temp, test_size=0.5, random_state=42, shuffle=False\n",
        ")\n",
        "\n",
        "print(\"Train:\", X_train.shape, \"Val:\", X_val.shape, \"Test:\", X_test.shape)"
      ]
    },
    {
      "cell_type": "code",
      "execution_count": 3,
      "id": "c6b15fc6",
      "metadata": {},
      "outputs": [
        {
          "name": "stdout",
          "output_type": "stream",
          "text": [
            "1- XGBOOST VALIDATION RESULTS\n",
            "MAE: 1472.8417\n",
            "R2: 0.4031\n",
            "2- XGBOOST TEST RESULTS\n",
            "MAE: 1087.8868\n",
            "R2: 0.7693\n"
          ]
        }
      ],
      "source": [
        "# Modelo XGBoost con los hiperparámetros de models.ipynb\n",
        "xgb = XGBRegressor(\n",
        "    n_estimators=2000,\n",
        "    learning_rate=0.03,\n",
        "    max_depth=7,\n",
        "    subsample=0.9,\n",
        "    colsample_bytree=0.9,\n",
        "    reg_lambda=1.5,\n",
        "    reg_alpha=0.5,\n",
        "    min_child_weight=3,\n",
        "    random_state=42,\n",
        "    eval_metric=\"mae\",\n",
        "    early_stopping_rounds=50\n",
        ")\n",
        "\n",
        "# Entrenamiento con conjunto de validación para early stopping\n",
        "xgb.fit(\n",
        "    X_train, y_train,\n",
        "    eval_set=[(X_val, y_val)],\n",
        "    verbose=False\n",
        ")\n",
        "\n",
        "# Validación\n",
        "y_val_pred = xgb.predict(X_val)\n",
        "mae_val = mean_absolute_error(y_val, y_val_pred)\n",
        "r2_val = r2_score(y_val, y_val_pred)\n",
        "print(\"1- XGBOOST VALIDATION RESULTS\")\n",
        "print(f\"MAE: {mae_val:.4f}\")\n",
        "print(f\"R2: {r2_val:.4f}\")\n",
        "\n",
        "# Test\n",
        "y_test_pred = xgb.predict(X_test)\n",
        "mae_test = mean_absolute_error(y_test, y_test_pred)\n",
        "r2_test = r2_score(y_test, y_test_pred)\n",
        "print(\"2- XGBOOST TEST RESULTS\")\n",
        "print(f\"MAE: {mae_test:.4f}\")\n",
        "print(f\"R2: {r2_test:.4f}\")"
      ]
    },
    {
      "cell_type": "code",
      "execution_count": 4,
      "id": "7468169f",
      "metadata": {},
      "outputs": [
        {
          "name": "stdout",
          "output_type": "stream",
          "text": [
            " Valor real anterior: 122,391.00 USD\n",
            " Predicción del precio de BTC para el siguiente día: 122,372.95 USD\n",
            " Diferencia: 18.05 USD\n"
          ]
        }
      ],
      "source": [
        "# Predicción de ejemplo con la primera fila como proxy del 'siguiente día' (mismo patrón que RF)\n",
        "y_predicted_next = xgb.predict(x_last_row)\n",
        "print(f\" Valor real anterior: {y_last_row.values[0]:,.2f} USD\")\n",
        "print(f\" Predicción del precio de BTC para el siguiente día: {y_predicted_next[0]:,.2f} USD\")\n",
        "print(f\" Diferencia: {abs(y_predicted_next[0] - y_last_row.values[0]):,.2f} USD\")"
      ]
    }
  ],
  "metadata": {
    "kernelspec": {
      "display_name": "Python (btcml)",
      "language": "python",
      "name": "btcml"
    },
    "language_info": {
      "codemirror_mode": {
        "name": "ipython",
        "version": 3
      },
      "file_extension": ".py",
      "mimetype": "text/x-python",
      "name": "python",
      "nbconvert_exporter": "python",
      "pygments_lexer": "ipython3",
      "version": "3.12.10"
    }
  },
  "nbformat": 4,
  "nbformat_minor": 5
}
